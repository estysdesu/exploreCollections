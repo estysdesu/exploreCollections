{
 "cells": [
  {
   "cell_type": "markdown",
   "metadata": {},
   "source": [
    "# Collections\n",
    "\n",
    "## Prerequisite: What are containers in Python?\n",
    "* Object that contains 0+ other objects\n",
    "* Examples: `tuple`, `list`, `set`, `dict`\n",
    "* Abstract base class is `collections.abc.Container` (`collections.Container` in Py2)\n",
    "    * Supports the `__contains__` method which allows for the use of the `in` keyword (`x in y`)\n",
    "\n",
    "## What are collections in Python?\n",
    "* Specialized containers as alternative to built-ins\n",
    "* Examples: `namedtuple`, `Counter`, `OrderedDict`\n",
    "\n"
   ]
  },
  {
   "cell_type": "markdown",
   "metadata": {},
   "source": [
    "---\n",
    "## `namedtuple`\n",
    "* Factory function that generates an indexable, iterable class (subclass of `tuple`) with the named attribute fields\n",
    "* Why use it? \n",
    "    * Lightweight\n",
    "    * **Require no more memory than a tuple containing identical objects**"
   ]
  },
  {
   "cell_type": "code",
   "execution_count": 1,
   "metadata": {},
   "outputs": [
    {
     "name": "stdout",
     "output_type": "stream",
     "text": [
      "TUPLE CLASS\n",
      "__repr__: p0 = (8, 2, 5)\n",
      "indexing: p0[1] = 2 (p0.y does not exist)\n",
      "__dict__ attr: False\n",
      "class sizeof: 400 bytes\n",
      "instance sizeof: 80 bytes\n",
      "\n",
      "CLASS GENERATED FROM NAMEDTUPLE\n",
      "__repr__: p1 = Point3D(x=8, y=2, z=5)\n",
      "indexing: p1.y = 2 == p1[1] = 2\n",
      "__dict__ attr: False\n",
      "class sizeof: 896 bytes\n",
      "instance sizeof: 80 bytes\n",
      "\n",
      "MANUAL CLASS DEFINITION\n",
      "__repr__: p2 = (8, 2, 5)\n",
      "indexing: p2.y = 2 == p2[1] = 2\n",
      "__dict__ attribute: True\n",
      "class sizeof: 1064 bytes\n",
      "instance sizeof: 88 bytes\n"
     ]
    }
   ],
   "source": [
    "##### COMPARING MEMORY AND ATTRIBUTES FOR NAMEDTUPLE GENERATED CLASS, TUPLE, AND MANUAL CLASS DEFINITION #####\n",
    "from collections import namedtuple\n",
    "import sys\n",
    "# from guppy import hpy; h=hpy()\n",
    "\n",
    "# TUPLE \n",
    "p0 = (8, 2, 5)\n",
    "print(\"tuple class\".upper())\n",
    "print(f\"__repr__: p0 = {p0}\")\n",
    "print(f\"indexing: p0[1] = {p0[1]} (p0.y does not exist)\")\n",
    "print(f\"__dict__ attr: {hasattr(p0, '__dict__')}\")\n",
    "print(f\"class sizeof: {sys.getsizeof(tuple)} bytes\")\n",
    "print(f\"instance sizeof: {sys.getsizeof(p0)} bytes\")\n",
    "# print(f\"class sizeof: {h.iso(tuple).size} bytes\")\n",
    "# print(f\"instance sizeof: {h.iso(p0).size} bytes\")\n",
    "\n",
    "# NAMEDTUPLE (FACTORY FUNCTION THAT RETURNS A CLASS)\n",
    "Point2D = namedtuple(\"Point2D\", [\"x\", \"y\"]) # or namedtuple(\"Point\", \"x y\") or namedtuple(\"Point\", \"x, y\")\n",
    "Point3D = namedtuple(\"Point3D\", Point2D._fields + tuple(\"z\"))\n",
    "p1 = Point3D(p0[0], y=p0[1], z=p0[2])\n",
    "\n",
    "print(\"\\nclass generated from namedtuple\".upper())\n",
    "print(f\"__repr__: p1 = {p1}\")\n",
    "print(f\"indexing: p1.y = {p1.y} == p1[1] = {p1[1]}\")\n",
    "print(f\"__dict__ attr: {hasattr(p1, '__dict__')}\")\n",
    "print(f\"class sizeof: {sys.getsizeof(Point3D)} bytes\")\n",
    "print(f\"instance sizeof: {sys.getsizeof(p1)} bytes\")\n",
    "# print(f\"class sizeof: {h.iso(Point3D).size} bytes\")\n",
    "# print(f\"instance sizeof: {h.iso(p1).size} bytes\")\n",
    "\n",
    "# MANUAL CLASS\n",
    "class Point3D(tuple):\n",
    "    def __init__(self, it):\n",
    "        if len(it) > 3:\n",
    "            raise ValueError(f\"3 values expected in iterable, {len(it)} received\")\n",
    "        else:\n",
    "            self.x = it[0]\n",
    "            self.y = it[1]\n",
    "            self.z = it[2]\n",
    "     \n",
    "p2 = Point3D(p0)\n",
    "print(\"\\nmanual class definition\".upper())\n",
    "print(f\"__repr__: p2 = {p2}\")\n",
    "print(f\"indexing: p2.y = {p2.y} == p2[1] = {p2[1]}\")\n",
    "print(f\"__dict__ attribute: {hasattr(p2, '__dict__')}\")\n",
    "print(f\"class sizeof: {sys.getsizeof(Point3D)} bytes\")\n",
    "print(f\"instance sizeof: {sys.getsizeof(p2)} bytes\")\n",
    "# print(f\"class sizeof: {h.iso(Point3D).size} bytes\")\n",
    "# print(f\"instance sizeof: {h.iso(p2).size} bytes\")"
   ]
  },
  {
   "cell_type": "code",
   "execution_count": 2,
   "metadata": {
    "scrolled": true
   },
   "outputs": [
    {
     "name": "stdout",
     "output_type": "stream",
     "text": [
      "Element(AtomicNumber='1', Element='Hydrogen', Symbol='H', AtomicMass='1.007', NumberofNeutrons='0', NumberofProtons='1', NumberofElectrons='1', Period='1', Group='1', Phase='gas')\n",
      "Element(AtomicNumber='2', Element='Helium', Symbol='He', AtomicMass='4.002', NumberofNeutrons='2', NumberofProtons='2', NumberofElectrons='2', Period='1', Group='18', Phase='gas')\n",
      "Element(AtomicNumber='3', Element='Lithium', Symbol='Li', AtomicMass='6.941', NumberofNeutrons='4', NumberofProtons='3', NumberofElectrons='3', Period='2', Group='1', Phase='solid')\n",
      "Element(AtomicNumber='4', Element='Beryllium', Symbol='Be', AtomicMass='9.012', NumberofNeutrons='5', NumberofProtons='4', NumberofElectrons='4', Period='2', Group='2', Phase='solid')\n",
      "Element(AtomicNumber='5', Element='Boron', Symbol='B', AtomicMass='10.811', NumberofNeutrons='6', NumberofProtons='5', NumberofElectrons='5', Period='2', Group='13', Phase='solid')\n",
      "Element(AtomicNumber='6', Element='Carbon', Symbol='C', AtomicMass='12.011', NumberofNeutrons='6', NumberofProtons='6', NumberofElectrons='6', Period='2', Group='14', Phase='solid')\n",
      "Element(AtomicNumber='7', Element='Nitrogen', Symbol='N', AtomicMass='14.007', NumberofNeutrons='7', NumberofProtons='7', NumberofElectrons='7', Period='2', Group='15', Phase='gas')\n",
      "Element(AtomicNumber='8', Element='Oxygen', Symbol='O', AtomicMass='15.999', NumberofNeutrons='8', NumberofProtons='8', NumberofElectrons='8', Period='2', Group='16', Phase='gas')\n",
      "Element(AtomicNumber='9', Element='Fluorine', Symbol='F', AtomicMass='18.998', NumberofNeutrons='10', NumberofProtons='9', NumberofElectrons='9', Period='2', Group='17', Phase='gas')\n",
      "Element(AtomicNumber='10', Element='Neon', Symbol='Ne', AtomicMass='20.18', NumberofNeutrons='10', NumberofProtons='10', NumberofElectrons='10', Period='2', Group='18', Phase='gas')\n",
      "Element(AtomicNumber='11', Element='Sodium', Symbol='Na', AtomicMass='22.99', NumberofNeutrons='12', NumberofProtons='11', NumberofElectrons='11', Period='3', Group='1', Phase='solid')\n",
      "Element(AtomicNumber='12', Element='Magnesium', Symbol='Mg', AtomicMass='24.305', NumberofNeutrons='12', NumberofProtons='12', NumberofElectrons='12', Period='3', Group='2', Phase='solid')\n",
      "Element(AtomicNumber='13', Element='Aluminum', Symbol='Al', AtomicMass='26.982', NumberofNeutrons='14', NumberofProtons='13', NumberofElectrons='13', Period='3', Group='13', Phase='solid')\n",
      "Element(AtomicNumber='14', Element='Silicon', Symbol='Si', AtomicMass='28.086', NumberofNeutrons='14', NumberofProtons='14', NumberofElectrons='14', Period='3', Group='14', Phase='solid')\n",
      "Element(AtomicNumber='15', Element='Phosphorus', Symbol='P', AtomicMass='30.974', NumberofNeutrons='16', NumberofProtons='15', NumberofElectrons='15', Period='3', Group='15', Phase='solid')\n",
      "Element(AtomicNumber='16', Element='Sulfur', Symbol='S', AtomicMass='32.065', NumberofNeutrons='16', NumberofProtons='16', NumberofElectrons='16', Period='3', Group='16', Phase='solid')\n",
      "Element(AtomicNumber='17', Element='Chlorine', Symbol='Cl', AtomicMass='35.453', NumberofNeutrons='18', NumberofProtons='17', NumberofElectrons='17', Period='3', Group='17', Phase='gas')\n",
      "Element(AtomicNumber='18', Element='Argon', Symbol='Ar', AtomicMass='39.948', NumberofNeutrons='22', NumberofProtons='18', NumberofElectrons='18', Period='3', Group='18', Phase='gas')\n",
      "Element(AtomicNumber='19', Element='Potassium', Symbol='K', AtomicMass='39.098', NumberofNeutrons='20', NumberofProtons='19', NumberofElectrons='19', Period='4', Group='1', Phase='solid')\n",
      "Element(AtomicNumber='20', Element='Calcium', Symbol='Ca', AtomicMass='40.078', NumberofNeutrons='20', NumberofProtons='20', NumberofElectrons='20', Period='4', Group='2', Phase='solid')\n",
      "Element(AtomicNumber='21', Element='Scandium', Symbol='Sc', AtomicMass='44.956', NumberofNeutrons='24', NumberofProtons='21', NumberofElectrons='21', Period='4', Group='3', Phase='solid')\n",
      "Element(AtomicNumber='22', Element='Titanium', Symbol='Ti', AtomicMass='47.867', NumberofNeutrons='26', NumberofProtons='22', NumberofElectrons='22', Period='4', Group='4', Phase='solid')\n",
      "Element(AtomicNumber='23', Element='Vanadium', Symbol='V', AtomicMass='50.942', NumberofNeutrons='28', NumberofProtons='23', NumberofElectrons='23', Period='4', Group='5', Phase='solid')\n",
      "Element(AtomicNumber='24', Element='Chromium', Symbol='Cr', AtomicMass='51.996', NumberofNeutrons='28', NumberofProtons='24', NumberofElectrons='24', Period='4', Group='6', Phase='solid')\n",
      "Element(AtomicNumber='25', Element='Manganese', Symbol='Mn', AtomicMass='54.938', NumberofNeutrons='30', NumberofProtons='25', NumberofElectrons='25', Period='4', Group='7', Phase='solid')\n",
      "Element(AtomicNumber='26', Element='Iron', Symbol='Fe', AtomicMass='55.845', NumberofNeutrons='30', NumberofProtons='26', NumberofElectrons='26', Period='4', Group='8', Phase='solid')\n",
      "Element(AtomicNumber='27', Element='Cobalt', Symbol='Co', AtomicMass='58.933', NumberofNeutrons='32', NumberofProtons='27', NumberofElectrons='27', Period='4', Group='9', Phase='solid')\n",
      "Element(AtomicNumber='28', Element='Nickel', Symbol='Ni', AtomicMass='58.693', NumberofNeutrons='31', NumberofProtons='28', NumberofElectrons='28', Period='4', Group='10', Phase='solid')\n",
      "Element(AtomicNumber='29', Element='Copper', Symbol='Cu', AtomicMass='63.546', NumberofNeutrons='35', NumberofProtons='29', NumberofElectrons='29', Period='4', Group='11', Phase='solid')\n",
      "Element(AtomicNumber='30', Element='Zinc', Symbol='Zn', AtomicMass='65.38', NumberofNeutrons='35', NumberofProtons='30', NumberofElectrons='30', Period='4', Group='12', Phase='solid')\n",
      "Element(AtomicNumber='31', Element='Gallium', Symbol='Ga', AtomicMass='69.723', NumberofNeutrons='39', NumberofProtons='31', NumberofElectrons='31', Period='4', Group='13', Phase='solid')\n",
      "Element(AtomicNumber='32', Element='Germanium', Symbol='Ge', AtomicMass='72.64', NumberofNeutrons='41', NumberofProtons='32', NumberofElectrons='32', Period='4', Group='14', Phase='solid')\n",
      "Element(AtomicNumber='33', Element='Arsenic', Symbol='As', AtomicMass='74.922', NumberofNeutrons='42', NumberofProtons='33', NumberofElectrons='33', Period='4', Group='15', Phase='solid')\n",
      "Element(AtomicNumber='34', Element='Selenium', Symbol='Se', AtomicMass='78.96', NumberofNeutrons='45', NumberofProtons='34', NumberofElectrons='34', Period='4', Group='16', Phase='solid')\n",
      "Element(AtomicNumber='35', Element='Bromine', Symbol='Br', AtomicMass='79.904', NumberofNeutrons='45', NumberofProtons='35', NumberofElectrons='35', Period='4', Group='17', Phase='liq')\n",
      "Element(AtomicNumber='36', Element='Krypton', Symbol='Kr', AtomicMass='83.798', NumberofNeutrons='48', NumberofProtons='36', NumberofElectrons='36', Period='4', Group='18', Phase='gas')\n",
      "Element(AtomicNumber='37', Element='Rubidium', Symbol='Rb', AtomicMass='85.468', NumberofNeutrons='48', NumberofProtons='37', NumberofElectrons='37', Period='5', Group='1', Phase='solid')\n",
      "Element(AtomicNumber='38', Element='Strontium', Symbol='Sr', AtomicMass='87.62', NumberofNeutrons='50', NumberofProtons='38', NumberofElectrons='38', Period='5', Group='2', Phase='solid')\n",
      "Element(AtomicNumber='39', Element='Yttrium', Symbol='Y', AtomicMass='88.906', NumberofNeutrons='50', NumberofProtons='39', NumberofElectrons='39', Period='5', Group='3', Phase='solid')\n",
      "Element(AtomicNumber='40', Element='Zirconium', Symbol='Zr', AtomicMass='91.224', NumberofNeutrons='51', NumberofProtons='40', NumberofElectrons='40', Period='5', Group='4', Phase='solid')\n",
      "Element(AtomicNumber='41', Element='Niobium', Symbol='Nb', AtomicMass='92.906', NumberofNeutrons='52', NumberofProtons='41', NumberofElectrons='41', Period='5', Group='5', Phase='solid')\n",
      "Element(AtomicNumber='42', Element='Molybdenum', Symbol='Mo', AtomicMass='95.96', NumberofNeutrons='54', NumberofProtons='42', NumberofElectrons='42', Period='5', Group='6', Phase='solid')\n",
      "Element(AtomicNumber='43', Element='Technetium', Symbol='Tc', AtomicMass='98', NumberofNeutrons='55', NumberofProtons='43', NumberofElectrons='43', Period='5', Group='7', Phase='artificial')\n",
      "Element(AtomicNumber='44', Element='Ruthenium', Symbol='Ru', AtomicMass='101.07', NumberofNeutrons='57', NumberofProtons='44', NumberofElectrons='44', Period='5', Group='8', Phase='solid')\n",
      "Element(AtomicNumber='45', Element='Rhodium', Symbol='Rh', AtomicMass='102.906', NumberofNeutrons='58', NumberofProtons='45', NumberofElectrons='45', Period='5', Group='9', Phase='solid')\n",
      "Element(AtomicNumber='46', Element='Palladium', Symbol='Pd', AtomicMass='106.42', NumberofNeutrons='60', NumberofProtons='46', NumberofElectrons='46', Period='5', Group='10', Phase='solid')\n",
      "Element(AtomicNumber='47', Element='Silver', Symbol='Ag', AtomicMass='107.868', NumberofNeutrons='61', NumberofProtons='47', NumberofElectrons='47', Period='5', Group='11', Phase='solid')\n",
      "Element(AtomicNumber='48', Element='Cadmium', Symbol='Cd', AtomicMass='112.411', NumberofNeutrons='64', NumberofProtons='48', NumberofElectrons='48', Period='5', Group='12', Phase='solid')\n",
      "Element(AtomicNumber='49', Element='Indium', Symbol='In', AtomicMass='114.818', NumberofNeutrons='66', NumberofProtons='49', NumberofElectrons='49', Period='5', Group='13', Phase='solid')\n",
      "Element(AtomicNumber='50', Element='Tin', Symbol='Sn', AtomicMass='118.71', NumberofNeutrons='69', NumberofProtons='50', NumberofElectrons='50', Period='5', Group='14', Phase='solid')\n",
      "Element(AtomicNumber='51', Element='Antimony', Symbol='Sb', AtomicMass='121.76', NumberofNeutrons='71', NumberofProtons='51', NumberofElectrons='51', Period='5', Group='15', Phase='solid')\n",
      "Element(AtomicNumber='52', Element='Tellurium', Symbol='Te', AtomicMass='127.6', NumberofNeutrons='76', NumberofProtons='52', NumberofElectrons='52', Period='5', Group='16', Phase='solid')\n",
      "Element(AtomicNumber='53', Element='Iodine', Symbol='I', AtomicMass='126.904', NumberofNeutrons='74', NumberofProtons='53', NumberofElectrons='53', Period='5', Group='17', Phase='solid')\n",
      "Element(AtomicNumber='54', Element='Xenon', Symbol='Xe', AtomicMass='131.293', NumberofNeutrons='77', NumberofProtons='54', NumberofElectrons='54', Period='5', Group='18', Phase='gas')\n",
      "Element(AtomicNumber='55', Element='Cesium', Symbol='Cs', AtomicMass='132.905', NumberofNeutrons='78', NumberofProtons='55', NumberofElectrons='55', Period='6', Group='1', Phase='solid')\n",
      "Element(AtomicNumber='56', Element='Barium', Symbol='Ba', AtomicMass='137.327', NumberofNeutrons='81', NumberofProtons='56', NumberofElectrons='56', Period='6', Group='2', Phase='solid')\n",
      "Element(AtomicNumber='57', Element='Lanthanum', Symbol='La', AtomicMass='138.905', NumberofNeutrons='82', NumberofProtons='57', NumberofElectrons='57', Period='6', Group='3', Phase='solid')\n",
      "Element(AtomicNumber='58', Element='Cerium', Symbol='Ce', AtomicMass='140.116', NumberofNeutrons='82', NumberofProtons='58', NumberofElectrons='58', Period='6', Group='', Phase='solid')\n",
      "Element(AtomicNumber='59', Element='Praseodymium', Symbol='Pr', AtomicMass='140.908', NumberofNeutrons='82', NumberofProtons='59', NumberofElectrons='59', Period='6', Group='', Phase='solid')\n",
      "Element(AtomicNumber='60', Element='Neodymium', Symbol='Nd', AtomicMass='144.242', NumberofNeutrons='84', NumberofProtons='60', NumberofElectrons='60', Period='6', Group='', Phase='solid')\n",
      "Element(AtomicNumber='61', Element='Promethium', Symbol='Pm', AtomicMass='145', NumberofNeutrons='84', NumberofProtons='61', NumberofElectrons='61', Period='6', Group='', Phase='artificial')\n",
      "Element(AtomicNumber='62', Element='Samarium', Symbol='Sm', AtomicMass='150.36', NumberofNeutrons='88', NumberofProtons='62', NumberofElectrons='62', Period='6', Group='', Phase='solid')\n",
      "Element(AtomicNumber='63', Element='Europium', Symbol='Eu', AtomicMass='151.964', NumberofNeutrons='89', NumberofProtons='63', NumberofElectrons='63', Period='6', Group='', Phase='solid')\n",
      "Element(AtomicNumber='64', Element='Gadolinium', Symbol='Gd', AtomicMass='157.25', NumberofNeutrons='93', NumberofProtons='64', NumberofElectrons='64', Period='6', Group='', Phase='solid')\n",
      "Element(AtomicNumber='65', Element='Terbium', Symbol='Tb', AtomicMass='158.925', NumberofNeutrons='94', NumberofProtons='65', NumberofElectrons='65', Period='6', Group='', Phase='solid')\n",
      "Element(AtomicNumber='66', Element='Dysprosium', Symbol='Dy', AtomicMass='162.5', NumberofNeutrons='97', NumberofProtons='66', NumberofElectrons='66', Period='6', Group='', Phase='solid')\n",
      "Element(AtomicNumber='67', Element='Holmium', Symbol='Ho', AtomicMass='164.93', NumberofNeutrons='98', NumberofProtons='67', NumberofElectrons='67', Period='6', Group='', Phase='solid')\n",
      "Element(AtomicNumber='68', Element='Erbium', Symbol='Er', AtomicMass='167.259', NumberofNeutrons='99', NumberofProtons='68', NumberofElectrons='68', Period='6', Group='', Phase='solid')\n",
      "Element(AtomicNumber='69', Element='Thulium', Symbol='Tm', AtomicMass='168.934', NumberofNeutrons='100', NumberofProtons='69', NumberofElectrons='69', Period='6', Group='', Phase='solid')\n",
      "Element(AtomicNumber='70', Element='Ytterbium', Symbol='Yb', AtomicMass='173.054', NumberofNeutrons='103', NumberofProtons='70', NumberofElectrons='70', Period='6', Group='', Phase='solid')\n",
      "Element(AtomicNumber='71', Element='Lutetium', Symbol='Lu', AtomicMass='174.967', NumberofNeutrons='104', NumberofProtons='71', NumberofElectrons='71', Period='6', Group='', Phase='solid')\n",
      "Element(AtomicNumber='72', Element='Hafnium', Symbol='Hf', AtomicMass='178.49', NumberofNeutrons='106', NumberofProtons='72', NumberofElectrons='72', Period='6', Group='4', Phase='solid')\n",
      "Element(AtomicNumber='73', Element='Tantalum', Symbol='Ta', AtomicMass='180.948', NumberofNeutrons='108', NumberofProtons='73', NumberofElectrons='73', Period='6', Group='5', Phase='solid')\n",
      "Element(AtomicNumber='74', Element='Wolfram', Symbol='W', AtomicMass='183.84', NumberofNeutrons='110', NumberofProtons='74', NumberofElectrons='74', Period='6', Group='6', Phase='solid')\n",
      "Element(AtomicNumber='75', Element='Rhenium', Symbol='Re', AtomicMass='186.207', NumberofNeutrons='111', NumberofProtons='75', NumberofElectrons='75', Period='6', Group='7', Phase='solid')\n",
      "Element(AtomicNumber='76', Element='Osmium', Symbol='Os', AtomicMass='190.23', NumberofNeutrons='114', NumberofProtons='76', NumberofElectrons='76', Period='6', Group='8', Phase='solid')\n",
      "Element(AtomicNumber='77', Element='Iridium', Symbol='Ir', AtomicMass='192.217', NumberofNeutrons='115', NumberofProtons='77', NumberofElectrons='77', Period='6', Group='9', Phase='solid')\n",
      "Element(AtomicNumber='78', Element='Platinum', Symbol='Pt', AtomicMass='195.084', NumberofNeutrons='117', NumberofProtons='78', NumberofElectrons='78', Period='6', Group='10', Phase='solid')\n",
      "Element(AtomicNumber='79', Element='Gold', Symbol='Au', AtomicMass='196.967', NumberofNeutrons='118', NumberofProtons='79', NumberofElectrons='79', Period='6', Group='11', Phase='solid')\n",
      "Element(AtomicNumber='80', Element='Mercury', Symbol='Hg', AtomicMass='200.59', NumberofNeutrons='121', NumberofProtons='80', NumberofElectrons='80', Period='6', Group='12', Phase='liq')\n",
      "Element(AtomicNumber='81', Element='Thallium', Symbol='Tl', AtomicMass='204.383', NumberofNeutrons='123', NumberofProtons='81', NumberofElectrons='81', Period='6', Group='13', Phase='solid')\n",
      "Element(AtomicNumber='82', Element='Lead', Symbol='Pb', AtomicMass='207.2', NumberofNeutrons='125', NumberofProtons='82', NumberofElectrons='82', Period='6', Group='14', Phase='solid')\n",
      "Element(AtomicNumber='83', Element='Bismuth', Symbol='Bi', AtomicMass='208.98', NumberofNeutrons='126', NumberofProtons='83', NumberofElectrons='83', Period='6', Group='15', Phase='solid')\n",
      "Element(AtomicNumber='84', Element='Polonium', Symbol='Po', AtomicMass='210', NumberofNeutrons='126', NumberofProtons='84', NumberofElectrons='84', Period='6', Group='16', Phase='solid')\n",
      "Element(AtomicNumber='85', Element='Astatine', Symbol='At', AtomicMass='210', NumberofNeutrons='125', NumberofProtons='85', NumberofElectrons='85', Period='6', Group='17', Phase='solid')\n",
      "Element(AtomicNumber='86', Element='Radon', Symbol='Rn', AtomicMass='222', NumberofNeutrons='136', NumberofProtons='86', NumberofElectrons='86', Period='6', Group='18', Phase='gas')\n",
      "Element(AtomicNumber='87', Element='Francium', Symbol='Fr', AtomicMass='223', NumberofNeutrons='136', NumberofProtons='87', NumberofElectrons='87', Period='7', Group='1', Phase='solid')\n",
      "Element(AtomicNumber='88', Element='Radium', Symbol='Ra', AtomicMass='226', NumberofNeutrons='138', NumberofProtons='88', NumberofElectrons='88', Period='7', Group='2', Phase='solid')\n",
      "Element(AtomicNumber='89', Element='Actinium', Symbol='Ac', AtomicMass='227', NumberofNeutrons='138', NumberofProtons='89', NumberofElectrons='89', Period='7', Group='3', Phase='solid')\n",
      "Element(AtomicNumber='90', Element='Thorium', Symbol='Th', AtomicMass='232.038', NumberofNeutrons='142', NumberofProtons='90', NumberofElectrons='90', Period='7', Group='', Phase='solid')\n",
      "Element(AtomicNumber='91', Element='Protactinium', Symbol='Pa', AtomicMass='231.036', NumberofNeutrons='140', NumberofProtons='91', NumberofElectrons='91', Period='7', Group='', Phase='solid')\n",
      "Element(AtomicNumber='92', Element='Uranium', Symbol='U', AtomicMass='238.029', NumberofNeutrons='146', NumberofProtons='92', NumberofElectrons='92', Period='7', Group='', Phase='solid')\n",
      "Element(AtomicNumber='93', Element='Neptunium', Symbol='Np', AtomicMass='237', NumberofNeutrons='144', NumberofProtons='93', NumberofElectrons='93', Period='7', Group='', Phase='artificial')\n",
      "Element(AtomicNumber='94', Element='Plutonium', Symbol='Pu', AtomicMass='244', NumberofNeutrons='150', NumberofProtons='94', NumberofElectrons='94', Period='7', Group='', Phase='artificial')\n",
      "Element(AtomicNumber='95', Element='Americium', Symbol='Am', AtomicMass='243', NumberofNeutrons='148', NumberofProtons='95', NumberofElectrons='95', Period='7', Group='', Phase='artificial')\n",
      "Element(AtomicNumber='96', Element='Curium', Symbol='Cm', AtomicMass='247', NumberofNeutrons='151', NumberofProtons='96', NumberofElectrons='96', Period='7', Group='', Phase='artificial')\n",
      "Element(AtomicNumber='97', Element='Berkelium', Symbol='Bk', AtomicMass='247', NumberofNeutrons='150', NumberofProtons='97', NumberofElectrons='97', Period='7', Group='', Phase='artificial')\n",
      "Element(AtomicNumber='98', Element='Californium', Symbol='Cf', AtomicMass='251', NumberofNeutrons='153', NumberofProtons='98', NumberofElectrons='98', Period='7', Group='', Phase='artificial')\n",
      "Element(AtomicNumber='99', Element='Einsteinium', Symbol='Es', AtomicMass='252', NumberofNeutrons='153', NumberofProtons='99', NumberofElectrons='99', Period='7', Group='', Phase='artificial')\n",
      "Element(AtomicNumber='100', Element='Fermium', Symbol='Fm', AtomicMass='257', NumberofNeutrons='157', NumberofProtons='100', NumberofElectrons='100', Period='7', Group='', Phase='artificial')\n",
      "Element(AtomicNumber='101', Element='Mendelevium', Symbol='Md', AtomicMass='258', NumberofNeutrons='157', NumberofProtons='101', NumberofElectrons='101', Period='7', Group='', Phase='artificial')\n",
      "Element(AtomicNumber='102', Element='Nobelium', Symbol='No', AtomicMass='259', NumberofNeutrons='157', NumberofProtons='102', NumberofElectrons='102', Period='7', Group='', Phase='artificial')\n",
      "Element(AtomicNumber='103', Element='Lawrencium', Symbol='Lr', AtomicMass='262', NumberofNeutrons='159', NumberofProtons='103', NumberofElectrons='103', Period='7', Group='', Phase='artificial')\n",
      "Element(AtomicNumber='104', Element='Rutherfordium', Symbol='Rf', AtomicMass='261', NumberofNeutrons='157', NumberofProtons='104', NumberofElectrons='104', Period='7', Group='4', Phase='artificial')\n",
      "Element(AtomicNumber='105', Element='Dubnium', Symbol='Db', AtomicMass='262', NumberofNeutrons='157', NumberofProtons='105', NumberofElectrons='105', Period='7', Group='5', Phase='artificial')\n",
      "Element(AtomicNumber='106', Element='Seaborgium', Symbol='Sg', AtomicMass='266', NumberofNeutrons='160', NumberofProtons='106', NumberofElectrons='106', Period='7', Group='6', Phase='artificial')\n",
      "Element(AtomicNumber='107', Element='Bohrium', Symbol='Bh', AtomicMass='264', NumberofNeutrons='157', NumberofProtons='107', NumberofElectrons='107', Period='7', Group='7', Phase='artificial')\n",
      "Element(AtomicNumber='108', Element='Hassium', Symbol='Hs', AtomicMass='267', NumberofNeutrons='159', NumberofProtons='108', NumberofElectrons='108', Period='7', Group='8', Phase='artificial')\n",
      "Element(AtomicNumber='109', Element='Meitnerium', Symbol='Mt', AtomicMass='268', NumberofNeutrons='159', NumberofProtons='109', NumberofElectrons='109', Period='7', Group='9', Phase='artificial')\n",
      "Element(AtomicNumber='110', Element='Darmstadtium ', Symbol='Ds ', AtomicMass='271', NumberofNeutrons='161', NumberofProtons='110', NumberofElectrons='110', Period='7', Group='10', Phase='artificial')\n",
      "Element(AtomicNumber='111', Element='Roentgenium ', Symbol='Rg ', AtomicMass='272', NumberofNeutrons='161', NumberofProtons='111', NumberofElectrons='111', Period='7', Group='11', Phase='artificial')\n",
      "Element(AtomicNumber='112', Element='Copernicium ', Symbol='Cn ', AtomicMass='285', NumberofNeutrons='173', NumberofProtons='112', NumberofElectrons='112', Period='7', Group='12', Phase='artificial')\n",
      "Element(AtomicNumber='113', Element='Nihonium', Symbol='Nh', AtomicMass='284', NumberofNeutrons='171', NumberofProtons='113', NumberofElectrons='113', Period='7', Group='13', Phase='artificial')\n",
      "Element(AtomicNumber='114', Element='Flerovium', Symbol='Fl', AtomicMass='289', NumberofNeutrons='175', NumberofProtons='114', NumberofElectrons='114', Period='7', Group='14', Phase='artificial')\n",
      "Element(AtomicNumber='115', Element='Moscovium', Symbol='Mc', AtomicMass='288', NumberofNeutrons='173', NumberofProtons='115', NumberofElectrons='115', Period='7', Group='15', Phase='artificial')\n",
      "Element(AtomicNumber='116', Element='Livermorium', Symbol='Lv', AtomicMass='292', NumberofNeutrons='176', NumberofProtons='116', NumberofElectrons='116', Period='7', Group='16', Phase='artificial')\n",
      "Element(AtomicNumber='117', Element='Tennessine', Symbol='Ts', AtomicMass='295', NumberofNeutrons='178', NumberofProtons='117', NumberofElectrons='117', Period='7', Group='17', Phase='artificial')\n",
      "Element(AtomicNumber='118', Element='Oganesson', Symbol='Og', AtomicMass='294', NumberofNeutrons='176', NumberofProtons='118', NumberofElectrons='118', Period='7', Group='18', Phase='artificial')\n"
     ]
    }
   ],
   "source": [
    "##### MAPPING ITEMS IN A CSV FILE TO A NAMED TUPLE CLASS ##### \n",
    "from collections import namedtuple\n",
    "import csv\n",
    "\n",
    "# import urllib.request\n",
    "# url = \"https://gist.githubusercontent.com/GoodmanSciences/c2dd862cd38f21b0ad36b8f96b4bf1ee/raw/1d92663004489a5b6926e944c1b3d9ec5c40900e/Periodic%2520Table%2520of%2520Elements.csv\"\n",
    "# with urllib.request.urlopen(url) as response:\n",
    "#    data = response.read()\n",
    "\n",
    "Element = namedtuple(\"Element\", \"AtomicNumber,Element,Symbol,AtomicMass,NumberofNeutrons,NumberofProtons,NumberofElectrons,Period,Group,Phase\")\n",
    "with open(\"./Periodic Table of Elements.csv\") as f:\n",
    "    for el in map(Element._make, csv.reader(f)): \n",
    "        print(el)\n"
   ]
  },
  {
   "cell_type": "markdown",
   "metadata": {},
   "source": [
    "---\n",
    "## `deque`\n",
    "* \"Generalization of stacks and queues (the name is pronounced 'deck' and is short for 'double-ended queue')\"\n",
    "* Implementation is done in C/CPython to keep performance overhead low\n",
    "* Why use it?\n",
    "    * **Thread-safe**\n",
    "    * Memory efficient left and right appends and pops (**O(1) performance from both directions** vs. O(n) for left side pop and append for `list`) \n",
    "    * Additional features (methods): `rotate`, `maxlen`, `extendleft`"
   ]
  },
  {
   "cell_type": "code",
   "execution_count": 3,
   "metadata": {},
   "outputs": [
    {
     "name": "stdout",
     "output_type": "stream",
     "text": [
      "8.57 µs ± 1.26 µs per loop (mean ± std. dev. of 7 runs, 100000 loops each)\n",
      "9.7 µs ± 178 ns per loop (mean ± std. dev. of 7 runs, 100000 loops each)\n",
      "18.2 µs ± 665 ns per loop (mean ± std. dev. of 7 runs, 100000 loops each)\n"
     ]
    }
   ],
   "source": [
    "##### COMPARING TIME OF IDENTICAL RESULT W/ DEQUE AND LIST #####\n",
    "from collections import deque\n",
    "\n",
    "def op_to_time1(n=100):\n",
    "    x = deque()\n",
    "    for i in range(n):\n",
    "        x.appendleft(i)\n",
    "    return x\n",
    "\n",
    "def op_to_time2(n=100):\n",
    "    x = []\n",
    "    for i in range(n):\n",
    "        x.append(i)\n",
    "    return list(reversed(x))\n",
    "\n",
    "def op_to_time3(n=100):\n",
    "    x = []\n",
    "    for i in range(n):\n",
    "        x.insert(0, i)\n",
    "    return x\n",
    "        \n",
    "%timeit op_to_time1() # appendleft is fastest\n",
    "%timeit op_to_time2()\n",
    "%timeit op_to_time3()"
   ]
  },
  {
   "cell_type": "code",
   "execution_count": 4,
   "metadata": {},
   "outputs": [
    {
     "name": "stdout",
     "output_type": "stream",
     "text": [
      "len(queue) = 10\n"
     ]
    },
    {
     "data": {
      "text/plain": [
       "deque([<LogRecord: root, INFO, server.py, 99, \"1581625461.2797258: connection reset\">,\n",
       "       <LogRecord: root, ERROR, server.py, 63, \"1581625461.279687: improper config\">,\n",
       "       <LogRecord: root, DEBUG, server.py, 94, \"1581625461.279479: connection initiated\">,\n",
       "       <LogRecord: root, WARNING, server.py, 9, \"1581625461.2794123: connection interrupted\">,\n",
       "       <LogRecord: root, ERROR, server.py, 90, \"1581625461.279341: connection interrupted\">,\n",
       "       <LogRecord: root, DEBUG, server.py, 31, \"1581625461.2793057: connection initiated\">,\n",
       "       <LogRecord: root, INFO, server.py, 37, \"1581625461.279265: improper config\">,\n",
       "       <LogRecord: root, WARNING, server.py, 28, \"1581625461.278993: connection interrupted\">,\n",
       "       <LogRecord: root, CRITICAL, server.py, 73, \"1581625461.278954: connection reset\">,\n",
       "       <LogRecord: root, INFO, server.py, 88, \"1581625461.2789073: improper config\">])"
      ]
     },
     "execution_count": 4,
     "metadata": {},
     "output_type": "execute_result"
    }
   ],
   "source": [
    "##### DEQUE AS A FIXED LENGTH QUEUE #####\n",
    "from collections import deque\n",
    "from logging import LogRecord\n",
    "import random, time\n",
    "\n",
    "escalation = (\"CRITICAL\", \"ERROR\", \"WARNING\", \"INFO\", \"DEBUG\")\n",
    "status = (\"connection interrupted\", \"connection reset\", \"connection initiated\", \"improper config\")\n",
    "\n",
    "queue = deque([], maxlen=10)\n",
    "for i in range(25): # insert 25 times but only 10 are kept in queue\n",
    "    queue.appendleft(LogRecord('root', random.choice(escalation), \"server.py\", random.randint(0, 100), f\"{time.time()}: {random.choice(status)}\", \"\", None))\n",
    "\n",
    "print(f\"len(queue) = {len(queue)}\")\n",
    "queue"
   ]
  },
  {
   "cell_type": "code",
   "execution_count": 5,
   "metadata": {},
   "outputs": [
    {
     "name": "stdout",
     "output_type": "stream",
     "text": [
      "deque([-5, -4, -3, -2, -1, 0, 1, 2, 3, 4, 5, 6, 7, 8, 9])\n",
      "deque([0, 1, 2, 3, 4, 5, 6, 7, 8, 9, -5, -4, -3, -2, -1])\n"
     ]
    }
   ],
   "source": [
    "##### ADDITIONAL METHODS FOR DEQUE #####\n",
    "from collections import deque\n",
    "x = deque(range(10))\n",
    "x.extendleft(reversed(range(-5, 0))) # deque.extendleft() inserts from arguments right to left\n",
    "print(x)\n",
    "x.rotate(-5)\n",
    "print(x)"
   ]
  },
  {
   "cell_type": "markdown",
   "metadata": {},
   "source": [
    "---\n",
    "## `ChainMap`\n",
    "* Groups multiple maps (generically dictionaries in Python)\n",
    "* What is a map?\n",
    "    * \"[The correspondence of elements in one set to elements in the same set or another set.](https://www.thefreedictionary.com/map)\"\n",
    "    * \"[A mapping object maps values of one type (the key type) to arbitrary objects.](https://docs.python.org/2.0/lib/typesmapping.html)\"\n",
    "* Dictionary methods `update`, `clear`, `pop`, `popitem`, (...possibly more) only apply to first dictionary (referred to as parent)\n",
    "* Why use it?\n",
    "    * Underlying maps are stored as references (lightweight); however, changes to maps outside of ChainMap propogate\n",
    "    * Allows dictionary lookups across multiple dictionaries (`__contains__`/`in`, `dict[\"key\"]`)\n",
    "    * Any others?"
   ]
  },
  {
   "cell_type": "code",
   "execution_count": 6,
   "metadata": {},
   "outputs": [
    {
     "name": "stdout",
     "output_type": "stream",
     "text": [
      "kiwi and cherry in fav_fruits: True and True\n",
      "keys: ['orange', 'kiwi', 'apple', 'cherry']\n",
      "keys: ['orange', 'kiwi', 'apple', 'cherry', 'pineapple']\n"
     ]
    }
   ],
   "source": [
    "##### SHOWING CHAINMAP ONLY HOLDS REFERENCES TO EXTERNAL MAPS #####\n",
    "from collections import ChainMap\n",
    "\n",
    "fav_fruits1 = {\"apple\": \"John\", \"cherry\": \"Hannah\", \"orange\": \"Wendy\"}\n",
    "fav_fruits2 = {\"orange\": \"Tyler\", \"kiwi\": \"Jessie\", \"apple\": \"Emily\"}\n",
    "\n",
    "fav_fruits = ChainMap(fav_fruits1, fav_fruits2)\n",
    "print(f\"kiwi and cherry in fav_fruits: {'kiwi' in fav_fruits} and {'cherry' in fav_fruits}\")\n",
    "print(f\"keys: {list(fav_fruits.keys())}\")\n",
    "fav_fruits1.update({\"pineapple\":\"Katie\"}) # not updating fav_fruits directly\n",
    "print(f\"keys: {list(fav_fruits.keys())}\")"
   ]
  },
  {
   "cell_type": "code",
   "execution_count": 7,
   "metadata": {},
   "outputs": [
    {
     "name": "stdout",
     "output_type": "stream",
     "text": [
      "CHAINMAP\n",
      "instance sizeof: 64 bytes\n",
      "\n",
      "DICTIONARY\n",
      "instance sizeof: 1192 bytes\n"
     ]
    }
   ],
   "source": [
    "##### SHOWING CHAINMAP ONLY HOLDS REFERENCES TO EXTERNAL MAPS #####\n",
    "from collections import ChainMap\n",
    "import sys\n",
    "\n",
    "ALPHABET = \"abcdefghijklmnopqrstuvwxyz\"\n",
    "\n",
    "cm = ChainMap()\n",
    "for alpha, i in zip(ALPHABET, range(0, 25)):\n",
    "    cm.update({i: alpha})\n",
    "        \n",
    "d = {}\n",
    "for alpha, i in zip(ALPHABET, range(0, 25)):\n",
    "    d.update({i: alpha})\n",
    "\n",
    "print(\"ChainMap\".upper())\n",
    "print(f\"instance sizeof: {sys.getsizeof(cm)} bytes\") # only stores references\n",
    "\n",
    "print(\"\\ndictionary\".upper())\n",
    "print(f\"instance sizeof: {sys.getsizeof(d)} bytes\")"
   ]
  },
  {
   "cell_type": "markdown",
   "metadata": {},
   "source": [
    "---\n",
    "## `Counter`\n",
    "* `dict` where keys are object to count and values are the count\n",
    "* Why use it?\n",
    "    * Support addition, subtraction, intersection, and union operators/methods\n",
    "    * Additonal methods `most_common`, `elements`"
   ]
  },
  {
   "cell_type": "code",
   "execution_count": 8,
   "metadata": {},
   "outputs": [
    {
     "name": "stdout",
     "output_type": "stream",
     "text": [
      "Counter({'p': 2, 'y': 2, '-': 2, 'h': 1, 'a': 1, 'g': 1, 'o': 1, 'l': 1, 'u': 1, 'c': 1, 'k': 1})\n",
      "c['t'] = 0\n"
     ]
    }
   ],
   "source": [
    "##### DEMONSTRATE COUNTER FROM ITERABLE ######\n",
    "from collections import Counter\n",
    "\n",
    "c = Counter(\"happy-go-lucky\") # alternate c1 = Counter(a=8, b=2, c=14)\n",
    "print(c)\n",
    "print(f\"c['t'] = {c['t']}\")"
   ]
  },
  {
   "cell_type": "code",
   "execution_count": 9,
   "metadata": {},
   "outputs": [
    {
     "name": "stdout",
     "output_type": "stream",
     "text": [
      "[('e', 235331), ('i', 201032), ('a', 199554), ('o', 170692), ('r', 160985)]\n"
     ]
    },
    {
     "data": {
      "text/plain": [
       "[('i', 201032), ('a', 199554), ('o', 170692), ('r', 160985), ('n', 158743)]"
      ]
     },
     "execution_count": 9,
     "metadata": {},
     "output_type": "execute_result"
    }
   ],
   "source": [
    "from collections import Counter\n",
    "\n",
    "c1 = Counter()\n",
    "with open('words', 'rt') as f: # words copied from /usr/share/dict/words\n",
    "    for line in f:\n",
    "        c1.update(line.rstrip().lower())\n",
    "        \n",
    "print(c1.most_common(5))\n",
    "\n",
    "c2 = Counter(e = c1[\"e\"])\n",
    "(c1 - c2).most_common(5)"
   ]
  },
  {
   "cell_type": "code",
   "execution_count": 10,
   "metadata": {},
   "outputs": [
    {
     "name": "stdout",
     "output_type": "stream",
     "text": [
      "-c: Counter({'b': 4})\n",
      "+c: Counter({'a': 2})\n"
     ]
    }
   ],
   "source": [
    "c = Counter(a=2, b=-4)\n",
    "print(f\"-c: {-c}\")\n",
    "print(f\"+c: {+c}\")"
   ]
  },
  {
   "cell_type": "markdown",
   "metadata": {},
   "source": [
    "---\n",
    "## `OrderedDict`\n",
    "* A specialized `dict` that maintains order during iteration and has methods for rearranging the order\n",
    "* Why use it?\n",
    "    * Iterating over a `dict` type has not be guaranteed to be consistent and repeatable in previous Python versions (although since 3.6 the `dict` maintains insertion order and in 3.7 it became language spec)\n",
    "    * Allows additional methods to be called on it: `move_to_end`, `popitem`, and `__reversed__` (3.8 added this for `dict`)"
   ]
  },
  {
   "cell_type": "markdown",
   "metadata": {},
   "source": [
    "### Sample problem: Raindrops (exercism.io)\n",
    "* [My solution](https://exercism.io/tracks/python/exercises/raindrops/solutions/6b156cb11882422db8f57520028f5c7b) shown below\n",
    "* [Exercism exercise on GitHub](https://github.com/exercism/python/tree/master/exercises/raindrops)"
   ]
  },
  {
   "cell_type": "code",
   "execution_count": 11,
   "metadata": {},
   "outputs": [
    {
     "name": "stdout",
     "output_type": "stream",
     "text": [
      "PlingPlangPlong\n",
      "8\n"
     ]
    }
   ],
   "source": [
    "##### UTILIZING THE ORDERED ITERATION OVER AN ORDEREDDICT #####\n",
    "from collections import OrderedDict\n",
    "\n",
    "def raindrops(num):\n",
    "    snd_dict = OrderedDict(((3, \"Pling\"), (5, \"Plang\"), (7, \"Plong\")))\n",
    "    snd = [snd_dict[k] for k in snd_dict if num % k == 0] # keeps order during iteration b/c it's an OrderedDict!\n",
    "    if len(snd) == 0:\n",
    "        return str(num)\n",
    "    return \"\".join(snd)\n",
    "\n",
    "print(raindrops(105)) # \"PlingPlangPlong\"\n",
    "print(raindrops(8)) # \"8\""
   ]
  },
  {
   "cell_type": "code",
   "execution_count": 12,
   "metadata": {},
   "outputs": [
    {
     "name": "stdout",
     "output_type": "stream",
     "text": [
      "OrderedDict([('Tim', 4), ('Sabrina', 3), ('Jackson', 6), ('Johnny', 8)])\n",
      "OrderedDict([('Sabrina', 3), ('Tim', 4), ('Jackson', 6), ('Johnny', 8)])\n",
      "('Johnny', 8)\n",
      "('Jackson', 6)\n",
      "('Tim', 4)\n",
      "('Sabrina', 3)\n"
     ]
    }
   ],
   "source": [
    "##### ADDITIONAL METHODS ON ORDEREDDICT #####\n",
    "from collections import OrderedDict\n",
    "\n",
    "x = OrderedDict({\"Tim\": 4, \"Johnny\": 8, \"Sabrina\": 3, \"Jackson\": 6})\n",
    "x.move_to_end(\"Johnny\")\n",
    "print(x)\n",
    "x.move_to_end(\"Sabrina\", last=False)\n",
    "print(x)\n",
    "for pair in reversed(x.items()):\n",
    "    print(pair)"
   ]
  },
  {
   "cell_type": "markdown",
   "metadata": {},
   "source": [
    "---\n",
    "## `defaultdict`\n",
    "* Allows defining a subtype to be stored in a `dict`\n",
    "* When a key is first encountered without a value, the value takes the \"zero\" value for that type (explain)\n",
    "* Why use it?\n",
    "    * Default value generation for a key can be handy in that it allows you to utilize the methods of that type immediately\n",
    "    * Any others?"
   ]
  },
  {
   "cell_type": "code",
   "execution_count": 13,
   "metadata": {},
   "outputs": [
    {
     "name": "stdout",
     "output_type": "stream",
     "text": [
      "defaultdict(<class 'int'>, {'MyInitialKey': 0})\n"
     ]
    }
   ],
   "source": [
    "##### EXPLAINING DEFAULT TYPES AND RESPECTIVE ZERO VALUES #####\n",
    "from collections import defaultdict\n",
    "d = defaultdict(int) # toggle\n",
    "# d = defaultdict(list)\n",
    "# d = defaultdict(str)\n",
    "d[\"MyInitialKey\"]\n",
    "print(d)"
   ]
  },
  {
   "cell_type": "code",
   "execution_count": 14,
   "metadata": {},
   "outputs": [
    {
     "name": "stdout",
     "output_type": "stream",
     "text": [
      "defaultdict(<class 'int'>, {'m': 1, 'i': 4, 's': 4, 'p': 2})\n",
      "defaultdict(<class 'list'>, {'yellow': [1, 3], 'blue': [2, 4], 'red': [1]})\n"
     ]
    }
   ],
   "source": [
    "##### LEVERAGING THE DEFAULTDICT DEFAULT TYPE #####\n",
    "from collections import defaultdict\n",
    "\n",
    "s1 = 'mississippi'\n",
    "d1 = defaultdict(int)\n",
    "for k in s1:\n",
    "    d1[k] += 1\n",
    "print(d1)\n",
    "    \n",
    "s2 = [('yellow', 1), ('blue', 2), ('yellow', 3), ('blue', 4), ('red', 1)]\n",
    "d2 = defaultdict(list)\n",
    "for k, v in s2:\n",
    "    d2[k].append(v)\n",
    "print(d2)"
   ]
  },
  {
   "cell_type": "markdown",
   "metadata": {},
   "source": [
    "---\n",
    "## `UserDict`, `UserList`, and `UserString`\n",
    "* Wrappers around `dict`, `list`, and `string`, respectively\n",
    "* Why use it?\n",
    "    * Allow for more convenient subclassing of these built-ins as they provide additional attributes"
   ]
  },
  {
   "cell_type": "code",
   "execution_count": 15,
   "metadata": {},
   "outputs": [
    {
     "name": "stdout",
     "output_type": "stream",
     "text": [
      "x.data: [0, 0, 0, 0, 0]\n"
     ]
    }
   ],
   "source": [
    "##### ADDITIONAL ATTRIBUTE `data` #####\n",
    "from collections import UserList\n",
    "class MyList(UserList):\n",
    "    pass\n",
    "    \n",
    "x = MyList([0]*5)\n",
    "print(f\"x.data: {x.data}\")"
   ]
  },
  {
   "cell_type": "markdown",
   "metadata": {},
   "source": [
    "---\n",
    "## ABCs (Abstract Base Classes)\n",
    "* Factory classes intended to be subclassed, but unable to be instantiated themselves\n",
    "* Why use them?\n",
    "    * Define API for subclasses\n",
    "    * Ex: Blueprints, plugins where 3rd party implements subclasses\n",
    "    * Allows for creating more generic implementations using `issubclass` and `isinstance`"
   ]
  },
  {
   "cell_type": "code",
   "execution_count": 16,
   "metadata": {},
   "outputs": [],
   "source": [
    "import abc\n",
    "import math\n",
    "\n",
    "class Shape(metaclass=abc.ABCMeta):\n",
    "\n",
    "    @abc.abstractmethod\n",
    "    def __init__(self):\n",
    "        pass\n",
    "        \n",
    "    @abc.abstractmethod # indicates area must be implemented in subclass -- Python enforces this\n",
    "    def area(self):\n",
    "        pass\n",
    "    \n",
    "class Rectangle(Shape):\n",
    "    l = 0\n",
    "    w = 0\n",
    "        \n",
    "    def __init__(self, l, w):\n",
    "        self.l, self.w = l, w\n",
    "        \n",
    "    def area(self):\n",
    "        return self.l*self.w\n",
    "\n",
    "class Ellipse(Shape):\n",
    "    r1 = 0\n",
    "    r2 = 0\n",
    "        \n",
    "    def __init__(self, r1, r2):\n",
    "        self.r1, self.r2 = r1, r2\n",
    "        \n",
    "    def area(self): # show NotImplementedError by commenting this method out\n",
    "        return self.r1*self.r2*math.pi\n",
    "\n",
    "e = Ellipse(1, 2)"
   ]
  },
  {
   "cell_type": "code",
   "execution_count": 17,
   "metadata": {},
   "outputs": [
    {
     "name": "stdout",
     "output_type": "stream",
     "text": [
      "3\n",
      "5\n"
     ]
    }
   ],
   "source": [
    "from collections.abc import Iterable\n",
    "\n",
    "# generic function that only needs to accept iterable objects -- can be string, list, tuple\n",
    "def length(x):\n",
    "    if not isinstance(x, Iterable): # checks whether x is an instance of the class or subclass of Iterable\n",
    "        raise ValueError(f\"type {type(x)} is not iterable\")\n",
    "    c = 0\n",
    "    for val in x:\n",
    "        c += 1\n",
    "    return c\n",
    "\n",
    "print(length([3, 5, 7]))\n",
    "print(length(\"howdy\"))\n",
    "# print(counter(3)) # will fail b/c not an Iterable subclass (doesn't contain __iter__ method)"
   ]
  },
  {
   "cell_type": "markdown",
   "metadata": {},
   "source": [
    "---\n",
    "## Repo\n",
    "This notebook can be found at https://gitlab.com/estysdesu/explorecollections or the GitHub mirror (same URL except github.com)\n",
    "\n",
    "## Questions"
   ]
  }
 ],
 "metadata": {
  "kernelspec": {
   "display_name": "Python 3",
   "language": "python",
   "name": "python3"
  },
  "language_info": {
   "codemirror_mode": {
    "name": "ipython",
    "version": 3
   },
   "file_extension": ".py",
   "mimetype": "text/x-python",
   "name": "python",
   "nbconvert_exporter": "python",
   "pygments_lexer": "ipython3",
   "version": "3.7.4"
  }
 },
 "nbformat": 4,
 "nbformat_minor": 4
}
